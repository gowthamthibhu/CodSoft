{
 "cells": [
  {
   "cell_type": "code",
   "execution_count": null,
   "id": "c0d2ae69-7116-4c71-a586-7992b194c78a",
   "metadata": {},
   "outputs": [],
   "source": [
    "import pandas as pd\n",
    "import matplotlib.pyplot as plt\n",
    "import seaborn as sns\n",
    "import re\n",
    "import nltk\n",
    "nltk.download('stopwords')\n",
    "nltk.download('punkt')\n",
    "import string\n",
    "from nltk.corpus import stopwords\n",
    "from nltk.stem import LancasterStemmer\n",
    "from sklearn.feature_extraction.text import TfidfVectorizer\n",
    "from sklearn.model_selection import train_test_split\n",
    "from sklearn.naive_bayes import MultinomialNB\n",
    "from sklearn.metrics import accuracy_score, classification_report"
   ]
  },
  {
   "cell_type": "code",
   "execution_count": null,
   "id": "937373ed-2bae-4328-8888-3d983de401dd",
   "metadata": {},
   "outputs": [],
   "source": [
    "train_path = r\"C:\\Users\\gowth\\OneDrive\\Desktop\\ProgrammingProjects\\CodSoft\\movie_classification\\Genre Classification Dataset\\train_data.txt\"\n",
    "train_data = pd.read_csv(train_path, sep=':::', names=['Title', 'Genre', 'Description'], engine ='python')"
   ]
  },
  {
   "cell_type": "code",
   "execution_count": null,
   "id": "9b38fbc6-881c-4c48-af58-78cb298aa153",
   "metadata": {},
   "outputs": [],
   "source": [
    "print(train_data.describe())"
   ]
  },
  {
   "cell_type": "code",
   "execution_count": null,
   "id": "cfbf2d65-5741-47d3-b559-f47259ae24da",
   "metadata": {},
   "outputs": [],
   "source": [
    "print(train_data.info())"
   ]
  },
  {
   "cell_type": "code",
   "execution_count": null,
   "id": "d9c1e476-fb87-43c3-9a9c-7648e0a22ca2",
   "metadata": {},
   "outputs": [],
   "source": [
    "test_path = r\"C:\\Users\\gowth\\OneDrive\\Desktop\\ProgrammingProjects\\CodSoft\\movie_classification\\Genre Classification Dataset\\test_data.txt\"\n",
    "test_data = pd.read_csv(test_path, sep=':::', names=['Id','Title','Description'], engine='python')\n",
    "test_data.head()"
   ]
  },
  {
   "cell_type": "code",
   "execution_count": null,
   "id": "d2de012a-d85c-4952-ab87-9a4e976ffac0",
   "metadata": {},
   "outputs": [],
   "source": [
    "stemmer = LancasterStemmer()\n",
    "stop_words = set(stopwords.words('english'))\n",
    "\n",
    "def clean_text(text):\n",
    "    text = text.lower()\n",
    "    text = re.sub(r'@\\S+', '', text)  # Remove @mentions\n",
    "    text = re.sub(r'http\\S+', '', text)  # Remove URLs\n",
    "    text = re.sub(r'pic.\\S+', '', text)  # Remove pic links\n",
    "    text = re.sub(r\"[^a-zA-Z\\s]\", '', text)  # Keep only letters and spaces\n",
    "    text = re.sub(r'\\s+[a-zA-Z]\\s+', ' ', text)  # Remove single characters\n",
    "    text = \"\".join([i for i in text if i not in string.punctuation])  # Remove punctuation\n",
    "    words = nltk.word_tokenize(text)  # Tokenize the text\n",
    "    words = [word for word in words if word not in stop_words]  # Remove stopwords\n",
    "    words = [stemmer.stem(word) for word in words]  # Stem the words\n",
    "    text = \" \".join(words)  # Join the words back into a single string\n",
    "    text = re.sub(r\"\\s+\", \" \", text).strip()  # Remove extra whitespace\n",
    "    return text\n",
    "\n",
    "train_data['Text_cleaning'] = train_data['Description'].apply(clean_text)\n",
    "test_data['Text_cleaning'] = test_data['Description'].apply(clean_text)\n"
   ]
  },
  {
   "cell_type": "code",
   "execution_count": null,
   "id": "170d4838-42f0-49bc-b271-96ec47ca71f8",
   "metadata": {},
   "outputs": [],
   "source": [
    "tfidf_vectorizer = TfidfVectorizer()\n",
    "X_train = tfidf_vectorizer.fit_transform(train_data['Text_cleaning'])\n",
    "X_test = tfidf_vectorizer.transform(test_data['Text_cleaning'])"
   ]
  },
  {
   "cell_type": "code",
   "execution_count": null,
   "id": "e279a887-8bed-4423-8019-0a8659f35353",
   "metadata": {},
   "outputs": [],
   "source": []
  }
 ],
 "metadata": {
  "kernelspec": {
   "display_name": "Python 3",
   "language": "python",
   "name": "python3"
  },
  "language_info": {
   "codemirror_mode": {
    "name": "ipython",
    "version": 3
   },
   "file_extension": ".py",
   "mimetype": "text/x-python",
   "name": "python",
   "nbconvert_exporter": "python",
   "pygments_lexer": "ipython3",
   "version": "3.12.3"
  },
  "vscode": {
   "interpreter": {
    "hash": "3fcbd7240ee8f908d933dc7f71e8c42a1a91163b70ede8dcff5146d4087436c7"
   }
  }
 },
 "nbformat": 4,
 "nbformat_minor": 5
}
